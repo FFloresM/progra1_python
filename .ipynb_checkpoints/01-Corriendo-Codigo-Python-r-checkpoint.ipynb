{
 "cells": [
  {
   "cell_type": "markdown",
   "metadata": {},
   "source": [
    "**Metadata**: Estos notebooks están (más que) inspirados en el excelente trabajo de [Jake van der Plass](https://github.com/jakevdp/) y su [Whirlwind Tour Of Python](https://github.com/jakevdp/WhirlwindTourOfPython). Ver A Whirlwind Tour of Python by Jake VanderPlas (O’Reilly). Copyright 2016 O’Reilly Media, Inc., 978-1-491-96465-1.\". Estos notebooks están protegidos con la misma licencia de los originales, [Creative Commons 0](). Todas las notas están disponibles en [PrograUDD1](https://github.com/leoferres/prograUDD)."
   ]
  },
  {
   "cell_type": "markdown",
   "metadata": {},
   "source": [
    "# Corriendo código en Python\n",
    "\n",
    "  - Python es un lenguaje super flexible.\n",
    "  - Es interpretado, no compilado (ejecutado línea por línea, haciendolo interactivo (no es posible con C, o Fortran)\n",
    "  \n",
    "Esta sección describe cuatro maneras de correr código Python: el *interprete*, *ipython*, *scripts* y *Jupyter notebooks*."
   ]
  },
  {
   "cell_type": "markdown",
   "metadata": {},
   "source": [
    "## El interprete de Python\n",
    "\n",
    "   - Forma más básica de ejecutar Python (línea a línea)\n",
    "   - Viene con el lenguaje cuando se instala\n",
    "   - executar `python` en la terminal de OSX, en la consola de Linux o en el \"command prompt\" o `cmd.exe` de (bleargh) Windows.\n",
    "   \n",
    "De paso vean el siguiente ejemplo:"
   ]
  },
  {
   "cell_type": "markdown",
   "metadata": {},
   "source": [
    "```\n",
    "Python 3.5.2 |Anaconda custom (64-bit)| (default, Jul  2 2016, 17:53:06) \n",
    "[GCC 4.4.7 20120313 (Red Hat 4.4.7-1)] on linux\n",
    "Type \"help\", \"copyright\", \"credits\" or \"license\" for more information.\n",
    ">>> \n",
    "```"
   ]
  },
  {
   "cell_type": "markdown",
   "metadata": {},
   "source": [
    "Mientras el interprete esté cierriendo, se pueden ejecutar códigos pequeños, por ejemplo, usarlo como calculadora.\n",
    "\n",
    "```\n",
    ">>> 1 + 1\n",
    "2\n",
    ">>> x = 5\n",
    ">>> x * 3\n",
    "15\n",
    "```\n",
    "\n",
    "Noten el \"markup\" que hago: esto se llama \"markdown\" y nos es últil para escribir documentación (y páginas web... ESCRITAS EN PYTHON! :) vean `jekyll`."
   ]
  },
  {
   "cell_type": "markdown",
   "metadata": {},
   "source": [
    "## IPython\n",
    "\n",
    "Van a ver que si tienen que hacer cosas sofisticadas, el intérprete de Python es un poco limitado. Hay una alternativa, `ipython` (*i*nteractive *Python*) que viene con Anaconda, y que incluye un montón de mejoras al interprete. En anaconda, pueden ejecutar IPython usando el comando `ipython` o `jupyter console` (la verdad no sé si hay diferencias, siempre uso `jupyter console`, but meh. Si encuentran alguna diferencia, me avisan. (BTW, aqui hay [muchos rescursos más sobre Python](https://render.githubusercontent.com/view/16-Further-Resources.ipynb))"
   ]
  },
  {
   "cell_type": "markdown",
   "metadata": {},
   "source": [
    "```\n",
    "$ ipython\n",
    "Python 3.5.2 |Anaconda custom (64-bit)| (default, Jul  2 2016, 17:53:06) \n",
    "Type \"copyright\", \"credits\" or \"license\" for more information.\n",
    "\n",
    "IPython 5.1.0 -- An enhanced Interactive Python.\n",
    "?         -> Introduction and overview of IPython's features.\n",
    "%quickref -> Quick reference.\n",
    "help      -> Python's own help system.\n",
    "object?   -> Details about 'object', use 'object??' for extra details.\n",
    "\n",
    "In [1]: 1 + 1\n",
    "Out[1]: 2\n",
    "\n",
    "In [2]: x = 5\n",
    "\n",
    "In [3]: x * 3\n",
    "Out[3]: 15\n",
    "```"
   ]
  },
  {
   "cell_type": "markdown",
   "metadata": {},
   "source": [
    "## \"Scripts\" de Python\n",
    "\n",
    "   - correr línea a línea es bueno para explorar datos, pero no tan bueno para algoritmos que son más complejos. Para eso usamos scripts.\n",
    "   - Guardamos un montón de líneas de código en un archivo, y lo dejamos ejecutando (a veces por mucho rato)\n",
    "   - los scripts, por convención, se guardan en archivo `.py`.\n",
    "   \n",
    "```python\n",
    "# file: test.py\n",
    "print(\"Running test.py\")\n",
    "x = 5\n",
    "print(\"Result is\", 3 * x)\n",
    "```\n",
    "\n",
    "y para ejecutarlo (si sé... pero así se dice, \"ejecutar\"), vamos a la carpeta que contiene el archivo y decimos el siguiente \"encanto\":\n",
    "\n",
    "```\n",
    "$ python test.py\n",
    "Running test.py\n",
    "Result is 15\n",
    "```\n",
    "\n",
    "Para programas más complicados, no podemos evitar hacer esta clase de scripts."
   ]
  },
  {
   "cell_type": "markdown",
   "metadata": {
    "collapsed": true
   },
   "source": [
    "## El Jupyter notebook\n",
    "\n",
    "  - un formato especial de documentación que permite ejecutar codigo, ver gráficos, etc.\n",
    "  - Hibrido entre script/interactivo\n",
    "  - ya no solamente Python, sino también otros lenguajes\n",
    "  - los notebooks son un entorno de desarrollo, pero también una forma de comunicar y compartir trabajo a través de \"narrativas\" computacionales y de datos que mezclan código, figuras, datos, y texto.\n",
    "  \n",
    "Estas clases están en notebooks."
   ]
  },
  {
   "cell_type": "markdown",
   "metadata": {},
   "source": [
    "# Talleres y la próxima clase\n",
    "\n",
    "1. Agregar noticias aquí\n",
    "> La vida es muy corta para aprender Alemán. -Tad Marburg"
   ]
  }
 ],
 "metadata": {
  "anaconda-cloud": {},
  "kernelspec": {
   "display_name": "Python 3",
   "language": "python",
   "name": "python3"
  },
  "language_info": {
   "codemirror_mode": {
    "name": "ipython",
    "version": 3
   },
   "file_extension": ".py",
   "mimetype": "text/x-python",
   "name": "python",
   "nbconvert_exporter": "python",
   "pygments_lexer": "ipython3",
   "version": "3.6.7"
  }
 },
 "nbformat": 4,
 "nbformat_minor": 1
}
